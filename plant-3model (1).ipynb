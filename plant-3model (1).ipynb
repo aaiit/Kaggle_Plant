{
 "cells": [
  {
   "cell_type": "code",
   "execution_count": 1,
   "id": "protective-warehouse",
   "metadata": {
    "_cell_guid": "b1076dfc-b9ad-4769-8c92-a6c4dae69d19",
    "_uuid": "8f2839f25d086af736a60e9eeb907d3b93b6e0e5",
    "execution": {
     "iopub.execute_input": "2021-04-28T02:15:37.866386Z",
     "iopub.status.busy": "2021-04-28T02:15:37.865700Z",
     "iopub.status.idle": "2021-04-28T02:15:46.019073Z",
     "shell.execute_reply": "2021-04-28T02:15:46.018195Z"
    },
    "papermill": {
     "duration": 8.17026,
     "end_time": "2021-04-28T02:15:46.019253",
     "exception": false,
     "start_time": "2021-04-28T02:15:37.848993",
     "status": "completed"
    },
    "tags": []
   },
   "outputs": [],
   "source": [
    "import os\n",
    "import keras\n",
    "import numpy as np\n",
    "import pandas as pd\n",
    "import tensorflow as tf\n",
    "import matplotlib.pyplot as plt\n",
    "from sklearn.model_selection import train_test_split\n",
    "from keras.utils import to_categorical\n",
    "import shutil\n",
    "from glob import glob\n",
    "import pandas_profiling as pp\n",
    "import cv2\n",
    "from google.cloud import storage\n",
    "from kaggle_datasets import KaggleDatasets\n",
    "from random import seed, randint, random, choice\n",
    "from PIL import Image\n",
    "import tensorflow_addons as tfa"
   ]
  },
  {
   "cell_type": "code",
   "execution_count": 2,
   "id": "civilian-objective",
   "metadata": {
    "execution": {
     "iopub.execute_input": "2021-04-28T02:15:46.045894Z",
     "iopub.status.busy": "2021-04-28T02:15:46.045182Z",
     "iopub.status.idle": "2021-04-28T02:15:46.047930Z",
     "shell.execute_reply": "2021-04-28T02:15:46.047348Z"
    },
    "papermill": {
     "duration": 0.018632,
     "end_time": "2021-04-28T02:15:46.048063",
     "exception": false,
     "start_time": "2021-04-28T02:15:46.029431",
     "status": "completed"
    },
    "tags": []
   },
   "outputs": [],
   "source": [
    "def auto_select_accelerator():\n",
    "    try:\n",
    "        tpu = tf.distribute.cluster_resolver.TPUClusterResolver()\n",
    "        tf.config.experimental_connect_to_cluster(tpu)\n",
    "        tf.tpu.experimental.initialize_tpu_system(tpu)\n",
    "        strategy = tf.distribute.experimental.TPUStrategy(tpu)\n",
    "        print(\"Running on TPU:\", tpu.master())\n",
    "    except ValueError:\n",
    "        strategy = tf.distribute.get_strategy()\n",
    "    print(f\"Running on {strategy.num_replicas_in_sync} replicas\")\n",
    "    \n",
    "    return strategy"
   ]
  },
  {
   "cell_type": "code",
   "execution_count": 3,
   "id": "anonymous-colonial",
   "metadata": {
    "execution": {
     "iopub.execute_input": "2021-04-28T02:15:46.073994Z",
     "iopub.status.busy": "2021-04-28T02:15:46.073125Z",
     "iopub.status.idle": "2021-04-28T02:15:46.133297Z",
     "shell.execute_reply": "2021-04-28T02:15:46.133833Z"
    },
    "papermill": {
     "duration": 0.076405,
     "end_time": "2021-04-28T02:15:46.134006",
     "exception": false,
     "start_time": "2021-04-28T02:15:46.057601",
     "status": "completed"
    },
    "tags": []
   },
   "outputs": [
    {
     "name": "stdout",
     "output_type": "stream",
     "text": [
      "Running on 1 replicas\n"
     ]
    }
   ],
   "source": [
    "IMSIZES = (224, 240, 260, 300, 380, 456, 528, 600)\n",
    "im_size = IMSIZES[7]\n",
    "\n",
    "load_dir = \"/kaggle/input/plant-pathology-2021-fgvc8/\"\n",
    "df = pd.read_csv(load_dir + 'train.csv')\n",
    "\n",
    "strategy = auto_select_accelerator()\n",
    "BATCH_SIZE = 32\n",
    "\n",
    "test_dir = '/kaggle/input/plant-pathology-2021-fgvc8/test_images/'\n",
    "test_df = pd.DataFrame()\n",
    "test_df['image'] = os.listdir(test_dir)\n",
    "\n",
    "n_labels = 5"
   ]
  },
  {
   "cell_type": "code",
   "execution_count": 4,
   "id": "sealed-camping",
   "metadata": {
    "execution": {
     "iopub.execute_input": "2021-04-28T02:15:46.158413Z",
     "iopub.status.busy": "2021-04-28T02:15:46.157717Z",
     "iopub.status.idle": "2021-04-28T02:15:46.168334Z",
     "shell.execute_reply": "2021-04-28T02:15:46.167497Z"
    },
    "papermill": {
     "duration": 0.023487,
     "end_time": "2021-04-28T02:15:46.168480",
     "exception": false,
     "start_time": "2021-04-28T02:15:46.144993",
     "status": "completed"
    },
    "tags": []
   },
   "outputs": [
    {
     "name": "stdout",
     "output_type": "stream",
     "text": [
      "Running on 1 replicas\n"
     ]
    }
   ],
   "source": [
    "strategy = auto_select_accelerator()\n",
    "BATCH_SIZE = 32\n",
    "\n",
    "test_dir = '/kaggle/input/plant-pathology-2021-fgvc8/test_images/'\n",
    "test_df = pd.DataFrame()\n",
    "test_df['image'] = os.listdir(test_dir)"
   ]
  },
  {
   "cell_type": "code",
   "execution_count": 5,
   "id": "noted-dollar",
   "metadata": {
    "execution": {
     "iopub.execute_input": "2021-04-28T02:15:46.196014Z",
     "iopub.status.busy": "2021-04-28T02:15:46.195173Z",
     "iopub.status.idle": "2021-04-28T02:15:46.206393Z",
     "shell.execute_reply": "2021-04-28T02:15:46.206967Z"
    },
    "papermill": {
     "duration": 0.028118,
     "end_time": "2021-04-28T02:15:46.207136",
     "exception": false,
     "start_time": "2021-04-28T02:15:46.179018",
     "status": "completed"
    },
    "tags": []
   },
   "outputs": [
    {
     "name": "stdout",
     "output_type": "stream",
     "text": [
      "Found 3 validated image filenames.\n"
     ]
    }
   ],
   "source": [
    "from keras.preprocessing.image import ImageDataGenerator\n",
    "\n",
    "testgen = ImageDataGenerator(\n",
    "            preprocessing_function = tf.keras.applications.efficientnet.preprocess_input,\n",
    "            horizontal_flip=True,\n",
    "            vertical_flip=True,\n",
    "            brightness_range=(0.8, 1.2),\n",
    "            rescale=1/255.0)\n",
    "\n",
    "test_set = testgen.flow_from_dataframe(dataframe=test_df,\n",
    "                                    directory=test_dir,\n",
    "                                    x_col=\"image\",\n",
    "                                    y_col=None,\n",
    "                                    batch_size=BATCH_SIZE,\n",
    "                                    seed=42,\n",
    "                                    shuffle=False,\n",
    "                                    class_mode=None,\n",
    "                                    target_size=(im_size,im_size))"
   ]
  },
  {
   "cell_type": "code",
   "execution_count": 6,
   "id": "raised-timing",
   "metadata": {
    "execution": {
     "iopub.execute_input": "2021-04-28T02:15:46.241062Z",
     "iopub.status.busy": "2021-04-28T02:15:46.240089Z",
     "iopub.status.idle": "2021-04-28T02:15:59.332924Z",
     "shell.execute_reply": "2021-04-28T02:15:59.332362Z"
    },
    "papermill": {
     "duration": 13.114826,
     "end_time": "2021-04-28T02:15:59.333080",
     "exception": false,
     "start_time": "2021-04-28T02:15:46.218254",
     "status": "completed"
    },
    "tags": []
   },
   "outputs": [],
   "source": [
    "from tensorflow.keras.optimizers import RMSprop, Adam, SGD\n",
    "from keras.models import Sequential\n",
    "from tensorflow.keras.layers import Conv2D, Input, GlobalAveragePooling2D, ReLU, Flatten, Dense, Dropout, BatchNormalization, MaxPooling2D, GlobalMaxPooling2D\n",
    "import tensorflow_addons\n",
    "\n",
    "with strategy.scope():\n",
    "    base = tf.keras.applications.EfficientNetB7(weights=None,\n",
    "                                                include_top=False, \n",
    "                                                input_shape=(im_size, im_size, 3),\n",
    "                                                drop_connect_rate=0.4)\n",
    "\n",
    "    model_69 = Sequential()\n",
    "    model_69.add(base)\n",
    "    model_69.add(GlobalAveragePooling2D())\n",
    "    model_69.add(Dense(n_labels, activation = 'sigmoid'))\n",
    "model_69.load_weights('../input/3modelsgive08/besteffb7_2.h5')"
   ]
  },
  {
   "cell_type": "code",
   "execution_count": 7,
   "id": "virtual-research",
   "metadata": {
    "execution": {
     "iopub.execute_input": "2021-04-28T02:15:59.368067Z",
     "iopub.status.busy": "2021-04-28T02:15:59.364910Z",
     "iopub.status.idle": "2021-04-28T02:16:12.070285Z",
     "shell.execute_reply": "2021-04-28T02:16:12.069698Z"
    },
    "papermill": {
     "duration": 12.726233,
     "end_time": "2021-04-28T02:16:12.070440",
     "exception": false,
     "start_time": "2021-04-28T02:15:59.344207",
     "status": "completed"
    },
    "tags": []
   },
   "outputs": [],
   "source": [
    "with strategy.scope():\n",
    "    base = tf.keras.applications.EfficientNetB7(weights=None,\n",
    "                                                include_top=False, \n",
    "                                                input_shape=(im_size, im_size, 3),\n",
    "                                                drop_connect_rate=0.4)\n",
    "    model_71 = Sequential()\n",
    "    model_71.add(base)\n",
    "    model_71.add(GlobalAveragePooling2D())\n",
    "    model_71.add(Dense(n_labels, activation = 'sigmoid'))\n",
    "model_71.load_weights('../input/3modelsgive08/besteffb7.h5')"
   ]
  },
  {
   "cell_type": "code",
   "execution_count": 8,
   "id": "julian-chance",
   "metadata": {
    "execution": {
     "iopub.execute_input": "2021-04-28T02:16:12.104293Z",
     "iopub.status.busy": "2021-04-28T02:16:12.103636Z",
     "iopub.status.idle": "2021-04-28T02:16:24.315340Z",
     "shell.execute_reply": "2021-04-28T02:16:24.314725Z"
    },
    "papermill": {
     "duration": 12.233354,
     "end_time": "2021-04-28T02:16:24.315497",
     "exception": false,
     "start_time": "2021-04-28T02:16:12.082143",
     "status": "completed"
    },
    "tags": []
   },
   "outputs": [],
   "source": [
    "with strategy.scope():\n",
    "    base = tf.keras.applications.EfficientNetB7(weights=None,\n",
    "                                                include_top=False, \n",
    "                                                input_shape=(im_size, im_size, 3),\n",
    "                                                drop_connect_rate=0.4)\n",
    "    model_72 = Sequential()\n",
    "    model_72.add(base)\n",
    "    model_72.add(GlobalMaxPooling2D())\n",
    "    model_72.add(Dense(n_labels, activation = 'sigmoid'))\n",
    "model_72.load_weights('../input/3modelsgive08/bestplantmodel_1model.h5')"
   ]
  },
  {
   "cell_type": "code",
   "execution_count": 9,
   "id": "resistant-identification",
   "metadata": {
    "execution": {
     "iopub.execute_input": "2021-04-28T02:16:24.346376Z",
     "iopub.status.busy": "2021-04-28T02:16:24.345693Z",
     "iopub.status.idle": "2021-04-28T02:16:53.535786Z",
     "shell.execute_reply": "2021-04-28T02:16:53.535116Z"
    },
    "papermill": {
     "duration": 29.20909,
     "end_time": "2021-04-28T02:16:53.535981",
     "exception": false,
     "start_time": "2021-04-28T02:16:24.326891",
     "status": "completed"
    },
    "tags": []
   },
   "outputs": [],
   "source": [
    "TTA = 3 \n",
    "preds = []\n",
    "\n",
    "for i in range(TTA):\n",
    "    test_set.reset()\n",
    "#     preds.append(model_69.predict(test_set))\n",
    "#     preds.append(model_71.predict(test_set))\n",
    "    preds.append(model_72.predict(test_set))\n",
    "    \n",
    "pred = np.mean(np.array(preds), axis=0)"
   ]
  },
  {
   "cell_type": "code",
   "execution_count": 10,
   "id": "capable-somalia",
   "metadata": {
    "execution": {
     "iopub.execute_input": "2021-04-28T02:16:53.576166Z",
     "iopub.status.busy": "2021-04-28T02:16:53.569317Z",
     "iopub.status.idle": "2021-04-28T02:16:53.598455Z",
     "shell.execute_reply": "2021-04-28T02:16:53.597721Z"
    },
    "papermill": {
     "duration": 0.048824,
     "end_time": "2021-04-28T02:16:53.598595",
     "exception": false,
     "start_time": "2021-04-28T02:16:53.549771",
     "status": "completed"
    },
    "tags": []
   },
   "outputs": [
    {
     "data": {
      "text/html": [
       "<div>\n",
       "<style scoped>\n",
       "    .dataframe tbody tr th:only-of-type {\n",
       "        vertical-align: middle;\n",
       "    }\n",
       "\n",
       "    .dataframe tbody tr th {\n",
       "        vertical-align: top;\n",
       "    }\n",
       "\n",
       "    .dataframe thead th {\n",
       "        text-align: right;\n",
       "    }\n",
       "</style>\n",
       "<table border=\"1\" class=\"dataframe\">\n",
       "  <thead>\n",
       "    <tr style=\"text-align: right;\">\n",
       "      <th></th>\n",
       "      <th>image</th>\n",
       "      <th>labels</th>\n",
       "    </tr>\n",
       "  </thead>\n",
       "  <tbody>\n",
       "    <tr>\n",
       "      <th>0</th>\n",
       "      <td>ad8770db05586b59.jpg</td>\n",
       "      <td>complex</td>\n",
       "    </tr>\n",
       "    <tr>\n",
       "      <th>1</th>\n",
       "      <td>c7b03e718489f3ca.jpg</td>\n",
       "      <td>frog_eye_leaf_spot</td>\n",
       "    </tr>\n",
       "    <tr>\n",
       "      <th>2</th>\n",
       "      <td>85f8cb619c66b863.jpg</td>\n",
       "      <td>healthy</td>\n",
       "    </tr>\n",
       "  </tbody>\n",
       "</table>\n",
       "</div>"
      ],
      "text/plain": [
       "                  image              labels\n",
       "0  ad8770db05586b59.jpg             complex\n",
       "1  c7b03e718489f3ca.jpg  frog_eye_leaf_spot\n",
       "2  85f8cb619c66b863.jpg             healthy"
      ]
     },
     "execution_count": 10,
     "metadata": {},
     "output_type": "execute_result"
    }
   ],
   "source": [
    "name = {0: 'complex',\n",
    "        1: 'scab',\n",
    "        2: 'frog_eye_leaf_spot',\n",
    "        3: 'rust',\n",
    "        4: 'powdery_mildew',\n",
    "        6: 'healthy'}\n",
    "one_hot = {'healthy':            [0, 0, 0, 0, 0],\n",
    "           'complex':            [1, 0, 0, 0, 0],\n",
    "           'scab':               [0, 1, 0, 0, 0],\n",
    "           'frog_eye_leaf_spot': [0, 0, 1, 0, 0],\n",
    "           'rust':               [0, 0, 0, 1, 0],\n",
    "           'powdery_mildew':     [0, 0, 0, 0, 1],\n",
    "           'scab frog_eye_leaf_spot': [0, 1, 1, 0, 0],\n",
    "           'rust frog_eye_leaf_spot': [0, 0, 1, 1, 0],\n",
    "           'frog_eye_leaf_spot complex': [1, 0, 1, 0, 0],\n",
    "           'scab frog_eye_leaf_spot complex': [1, 1, 1, 0, 0],\n",
    "           'powdery_mildew complex': [1, 0, 0, 0, 1],\n",
    "           'rust complex': [1, 0, 0, 1, 0]}\n",
    "threshold = {0: 0.25,\n",
    "             1: 0.6,\n",
    "             2: 0.7,\n",
    "             3: 0.5,\n",
    "             4: 0.5}\n",
    "\n",
    "def get_key(val):\n",
    "    for key, value in name.items():\n",
    "        if val == value:\n",
    "            return key\n",
    " \n",
    "    return \"key doesn't exist\"\n",
    "\n",
    "pred_string = []\n",
    "for line in pred:\n",
    "    s = ''\n",
    "    p=np.array(line.tolist())\n",
    "    il = one_hot.values()\n",
    "    i = np.argmin([np.linalg.norm(l-p) for l in il])\n",
    "    s = [ key  for key in one_hot if one_hot[key]==list(il)[i]][0]\n",
    "\n",
    "    pred_string.append(s)\n",
    "    \n",
    "test_df['labels'] = pred_string\n",
    "test_df.to_csv('submission.csv', index=False)\n",
    "test_df.head()"
   ]
  },
  {
   "cell_type": "code",
   "execution_count": 11,
   "id": "ultimate-foundation",
   "metadata": {
    "execution": {
     "iopub.execute_input": "2021-04-28T02:16:53.625713Z",
     "iopub.status.busy": "2021-04-28T02:16:53.625106Z",
     "iopub.status.idle": "2021-04-28T02:16:53.631449Z",
     "shell.execute_reply": "2021-04-28T02:16:53.630848Z"
    },
    "papermill": {
     "duration": 0.020798,
     "end_time": "2021-04-28T02:16:53.631580",
     "exception": false,
     "start_time": "2021-04-28T02:16:53.610782",
     "status": "completed"
    },
    "tags": []
   },
   "outputs": [
    {
     "data": {
      "text/plain": [
       "array([[6.6689682e-01, 6.6740505e-02, 1.4975788e-01, 5.0694346e-03,\n",
       "        1.5962094e-02],\n",
       "       [2.0183849e-01, 6.7533753e-03, 8.2991379e-01, 1.2634993e-03,\n",
       "        1.1414066e-04],\n",
       "       [2.0842890e-01, 2.4351032e-01, 6.1664473e-02, 9.5889680e-02,\n",
       "        2.5063545e-02]], dtype=float32)"
      ]
     },
     "execution_count": 11,
     "metadata": {},
     "output_type": "execute_result"
    }
   ],
   "source": [
    "\n",
    "pred"
   ]
  },
  {
   "cell_type": "code",
   "execution_count": 12,
   "id": "nervous-petersburg",
   "metadata": {
    "execution": {
     "iopub.execute_input": "2021-04-28T02:16:53.659163Z",
     "iopub.status.busy": "2021-04-28T02:16:53.658572Z",
     "iopub.status.idle": "2021-04-28T02:16:53.661656Z",
     "shell.execute_reply": "2021-04-28T02:16:53.662196Z"
    },
    "papermill": {
     "duration": 0.018465,
     "end_time": "2021-04-28T02:16:53.662347",
     "exception": false,
     "start_time": "2021-04-28T02:16:53.643882",
     "status": "completed"
    },
    "tags": []
   },
   "outputs": [],
   "source": [
    "# !cp ../input/effmodel1-2/besteffb7.h5 .\n",
    "# !cp ../input/effnetb7-2/besteffb7_2.h5 .\n",
    "# !cp ../input/plant-1-model-2/bestplantmodel_1model.h5 ."
   ]
  }
 ],
 "metadata": {
  "kernelspec": {
   "display_name": "Python 3",
   "language": "python",
   "name": "python3"
  },
  "language_info": {
   "codemirror_mode": {
    "name": "ipython",
    "version": 3
   },
   "file_extension": ".py",
   "mimetype": "text/x-python",
   "name": "python",
   "nbconvert_exporter": "python",
   "pygments_lexer": "ipython3",
   "version": "3.7.9"
  },
  "papermill": {
   "default_parameters": {},
   "duration": 84.603828,
   "end_time": "2021-04-28T02:16:56.289955",
   "environment_variables": {},
   "exception": null,
   "input_path": "__notebook__.ipynb",
   "output_path": "__notebook__.ipynb",
   "parameters": {},
   "start_time": "2021-04-28T02:15:31.686127",
   "version": "2.3.2"
  }
 },
 "nbformat": 4,
 "nbformat_minor": 5
}
