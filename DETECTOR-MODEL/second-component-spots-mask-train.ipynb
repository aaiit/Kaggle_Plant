{
 "cells": [
  {
   "cell_type": "markdown",
   "id": "postal-vertex",
   "metadata": {
    "_uuid": "f2f11a400a20f8133d84c60a1a4c81fe25b97cf4",
    "papermill": {
     "duration": 0.023621,
     "end_time": "2021-06-14T14:48:38.902182",
     "exception": false,
     "start_time": "2021-06-14T14:48:38.878561",
     "status": "completed"
    },
    "tags": []
   },
   "source": [
    "# Background removal using Sementic Segmentation Network Unet\n",
    "\n"
   ]
  },
  {
   "cell_type": "code",
   "execution_count": 1,
   "id": "civic-brief",
   "metadata": {
    "_cell_guid": "b1076dfc-b9ad-4769-8c92-a6c4dae69d19",
    "_uuid": "8f2839f25d086af736a60e9eeb907d3b93b6e0e5",
    "execution": {
     "iopub.execute_input": "2021-06-14T14:48:38.953041Z",
     "iopub.status.busy": "2021-06-14T14:48:38.951391Z",
     "iopub.status.idle": "2021-06-14T14:48:44.661229Z",
     "shell.execute_reply": "2021-06-14T14:48:44.660638Z",
     "shell.execute_reply.started": "2021-06-14T14:40:57.299671Z"
    },
    "papermill": {
     "duration": 5.735867,
     "end_time": "2021-06-14T14:48:44.661397",
     "exception": false,
     "start_time": "2021-06-14T14:48:38.925530",
     "status": "completed"
    },
    "tags": []
   },
   "outputs": [],
   "source": [
    "# This Python 3 environment comes with many helpful analytics libraries installed\n",
    "# It is defined by the kaggle/python docker image: https://github.com/kaggle/docker-python\n",
    "# For example, here's several helpful packages to load in \n",
    "\n",
    "import numpy as np # linear algebra\n",
    "import pandas as pd # data processing, CSV file I/O (e.g. pd.read_csv)\n",
    "import random\n",
    "import matplotlib.pyplot as plt\n",
    "from tensorflow.keras import backend as K\n",
    "from tensorflow.keras.layers import Input, Conv2D, MaxPooling2D, concatenate, Conv2DTranspose, BatchNormalization, Activation, Dropout\n",
    "# from tensorflow.python.keras.optimizers import Adadelta, Nadam ,Adam\n",
    "from tensorflow.keras.models import Model, load_model\n",
    "from tensorflow.keras.utils import plot_model ,Sequence\n",
    "from tensorflow.keras.callbacks import TensorBoard, ModelCheckpoint, EarlyStopping, ReduceLROnPlateau\n",
    "from tensorflow.keras.preprocessing.image import load_img,img_to_array\n",
    "import tensorflow as tf\n",
    "from tensorflow.keras.losses import binary_crossentropy\n",
    "from scipy.ndimage import morphology as mp\n",
    "\n",
    "# Input data files are available in the \"../input/\" directory.\n",
    "# For example, running this (by clicking run or pressing Shift+Enter) will list the files in the input directory\n",
    "\n",
    "import os\n",
    "# print(os.listdir(\"../input\"))\n",
    "from glob import glob  # for getting list paths of image and labels\n",
    "from random import choice,sample\n",
    "from matplotlib import pyplot as plt\n",
    "import cv2 # saving and loading images\n",
    "\n",
    "# Any results you write to the current directory are saved as output."
   ]
  },
  {
   "cell_type": "markdown",
   "id": "juvenile-treasurer",
   "metadata": {
    "_uuid": "f9a5b388afa002f143e28c4ed7ec0b4326932807",
    "papermill": {
     "duration": 0.02175,
     "end_time": "2021-06-14T14:48:44.705291",
     "exception": false,
     "start_time": "2021-06-14T14:48:44.683541",
     "status": "completed"
    },
    "tags": []
   },
   "source": [
    "# listing image and their respective labels \n",
    "also here we are asserting the presence of label file w.r.t each image."
   ]
  },
  {
   "cell_type": "code",
   "execution_count": 2,
   "id": "quick-electron",
   "metadata": {
    "_cell_guid": "79c7e3d0-c299-4dcb-8224-4455121ee9b0",
    "_uuid": "d629ff2d2480ee46fbb7e2d37f6b5fab8052498a",
    "execution": {
     "iopub.execute_input": "2021-06-14T14:48:44.753491Z",
     "iopub.status.busy": "2021-06-14T14:48:44.752981Z",
     "iopub.status.idle": "2021-06-14T14:48:44.891353Z",
     "shell.execute_reply": "2021-06-14T14:48:44.890934Z",
     "shell.execute_reply.started": "2021-06-14T14:41:00.299470Z"
    },
    "papermill": {
     "duration": 0.16451,
     "end_time": "2021-06-14T14:48:44.891467",
     "exception": false,
     "start_time": "2021-06-14T14:48:44.726957",
     "status": "completed"
    },
    "tags": []
   },
   "outputs": [
    {
     "name": "stdout",
     "output_type": "stream",
     "text": [
      "1350\n",
      "1350\n"
     ]
    }
   ],
   "source": [
    "train_img_dir = '../input/pp21fire/data/data/' \n",
    "train_mask_dir = '../input/proposalspp21/masked/'\n",
    "train_imgs = os.listdir(train_mask_dir)# if you have an error take a look here ...\n",
    "train_masks = os.listdir(train_mask_dir)\n",
    "train_imgs= [ i for i in train_imgs if \"jpg\" in i][:-150]\n",
    "train_masks= [ i for i in train_masks if \"jpg\" in i][:-150]\n",
    "print(len(train_imgs))\n",
    "print(len(train_masks))\n"
   ]
  },
  {
   "cell_type": "markdown",
   "id": "invisible-explanation",
   "metadata": {
    "_uuid": "ae0e33d6dab3ae2891714b4e89938320758abaa3",
    "papermill": {
     "duration": 0.022459,
     "end_time": "2021-06-14T14:48:44.936908",
     "exception": false,
     "start_time": "2021-06-14T14:48:44.914449",
     "status": "completed"
    },
    "tags": []
   },
   "source": [
    "**Repeat same steps for validation dataset**"
   ]
  },
  {
   "cell_type": "code",
   "execution_count": 3,
   "id": "arabic-reverse",
   "metadata": {
    "_uuid": "1b5acb3a4164f57ad5c6deddcc37b183888f4291",
    "execution": {
     "iopub.execute_input": "2021-06-14T14:48:44.985394Z",
     "iopub.status.busy": "2021-06-14T14:48:44.984768Z",
     "iopub.status.idle": "2021-06-14T14:48:44.988234Z",
     "shell.execute_reply": "2021-06-14T14:48:44.987785Z",
     "shell.execute_reply.started": "2021-06-14T14:44:17.013789Z"
    },
    "papermill": {
     "duration": 0.029521,
     "end_time": "2021-06-14T14:48:44.988333",
     "exception": false,
     "start_time": "2021-06-14T14:48:44.958812",
     "status": "completed"
    },
    "tags": []
   },
   "outputs": [
    {
     "name": "stdout",
     "output_type": "stream",
     "text": [
      "150\n",
      "150\n"
     ]
    }
   ],
   "source": [
    "val_img_dir = '../input/pp21fire/data/data/' \n",
    "val_mask_dir = '../input/proposalspp21/masked/'\n",
    "val_imgs = train_imgs[-150:]#os.listdir(val_mask_dir)\n",
    "val_masks = train_masks[-150:]#os.listdir(val_mask_dir)\n",
    "print(len(val_imgs))\n",
    "print(len(val_masks))"
   ]
  },
  {
   "cell_type": "markdown",
   "id": "attractive-subdivision",
   "metadata": {
    "_uuid": "b0874d1c19836d557689de0f3b84a508b49cbc1d",
    "papermill": {
     "duration": 0.021969,
     "end_time": "2021-06-14T14:48:45.032371",
     "exception": false,
     "start_time": "2021-06-14T14:48:45.010402",
     "status": "completed"
    },
    "tags": []
   },
   "source": [
    "# Here we impliment keras custom data generator to get batch images and labels without loading whole dataset in the active memory\n"
   ]
  },
  {
   "cell_type": "code",
   "execution_count": 4,
   "id": "opening-singer",
   "metadata": {
    "_uuid": "20683f6d4cc5789aa700f12a7860e44ed7487ca6",
    "execution": {
     "iopub.execute_input": "2021-06-14T14:48:45.090245Z",
     "iopub.status.busy": "2021-06-14T14:48:45.089498Z",
     "iopub.status.idle": "2021-06-14T14:48:45.092282Z",
     "shell.execute_reply": "2021-06-14T14:48:45.091881Z",
     "shell.execute_reply.started": "2021-06-14T14:44:19.552289Z"
    },
    "papermill": {
     "duration": 0.037753,
     "end_time": "2021-06-14T14:48:45.092398",
     "exception": false,
     "start_time": "2021-06-14T14:48:45.054645",
     "status": "completed"
    },
    "tags": []
   },
   "outputs": [],
   "source": [
    "class DataGenerator(Sequence):\n",
    "    'Generates data for Keras'\n",
    "    \n",
    "    def __init__(self, images,image_dir,labels,label_dir ,batch_size=16, dim=(224,224,3) ,shuffle=True):\n",
    "        'Initialization'\n",
    "        self.dim = dim\n",
    "        self.images = images\n",
    "        self.image_dir = image_dir\n",
    "        self.labels = labels\n",
    "        self.label_dir = label_dir\n",
    "        self.batch_size = batch_size\n",
    "        self.shuffle = shuffle\n",
    "        self.on_epoch_end()\n",
    "\n",
    "    def __len__(self):\n",
    "        'Denotes the number of batches per epoch'\n",
    "        return int(np.floor(len(self.images) / self.batch_size))\n",
    "\n",
    "    def __getitem__(self, index):\n",
    "        'Generate one batch of data'\n",
    "        # Generate indexes of the batch\n",
    "        indexes = self.indexes[index*self.batch_size:(index+1)*self.batch_size]\n",
    "\n",
    "        # Find list of IDs\n",
    "        list_IDs_temp = [k for k in indexes]\n",
    "\n",
    "        # Generate data\n",
    "        X, y = self.__data_generation(list_IDs_temp)\n",
    "\n",
    "        return X, y\n",
    "\n",
    "    def on_epoch_end(self):\n",
    "        'Updates indexes after each epoch'\n",
    "        self.indexes = np.arange(len(self.images))\n",
    "        if self.shuffle == True:\n",
    "            np.random.shuffle(self.indexes)\n",
    "\n",
    "    def __data_generation(self, list_IDs_temp):\n",
    "        'Generates data containing batch_size samples' # X : (n_samples, *dim, n_channels)\n",
    "        # Initialization\n",
    "        batch_imgs = list()\n",
    "        batch_labels = list()\n",
    "\n",
    "        # Generate data\n",
    "        for i in list_IDs_temp:\n",
    "            # Store sample\n",
    "            img = load_img(self.image_dir + self.images[i] ,target_size=self.dim)\n",
    "            img = img_to_array(img)/255.\n",
    "            batch_imgs.append(img)\n",
    "           # Store class\n",
    "            label = load_img(self.label_dir + self.labels[i] ,target_size=self.dim)\n",
    "            label = img_to_array(label)[:,:,0]\n",
    "            label = label != 0\n",
    "            label = mp.binary_erosion(mp.binary_erosion(label))\n",
    "            label = mp.binary_dilation(mp.binary_dilation(mp.binary_dilation(label)))\n",
    "            label = np.expand_dims((label)*1 , axis=2)\n",
    "            batch_labels.append(label)\n",
    "            \n",
    "        return np.array(batch_imgs) ,np.array(batch_labels,dtype=np.float32)"
   ]
  },
  {
   "cell_type": "markdown",
   "id": "informative-henry",
   "metadata": {
    "_uuid": "25ca7a71bddacc5041317e3d21127a604b8eace3",
    "papermill": {
     "duration": 0.022217,
     "end_time": "2021-06-14T14:48:45.136937",
     "exception": false,
     "start_time": "2021-06-14T14:48:45.114720",
     "status": "completed"
    },
    "tags": []
   },
   "source": [
    " **Now we need to define our training and validation generator using above implimented class.**"
   ]
  },
  {
   "cell_type": "code",
   "execution_count": 5,
   "id": "necessary-facility",
   "metadata": {
    "_uuid": "44b5697993d190246ab850be5aef4c865eb99aca",
    "execution": {
     "iopub.execute_input": "2021-06-14T14:48:45.188963Z",
     "iopub.status.busy": "2021-06-14T14:48:45.188265Z",
     "iopub.status.idle": "2021-06-14T14:48:45.191305Z",
     "shell.execute_reply": "2021-06-14T14:48:45.191701Z",
     "shell.execute_reply.started": "2021-06-14T14:44:21.717025Z"
    },
    "papermill": {
     "duration": 0.032309,
     "end_time": "2021-06-14T14:48:45.191817",
     "exception": false,
     "start_time": "2021-06-14T14:48:45.159508",
     "status": "completed"
    },
    "scrolled": true,
    "tags": []
   },
   "outputs": [
    {
     "data": {
      "text/plain": [
       "37"
      ]
     },
     "execution_count": 5,
     "metadata": {},
     "output_type": "execute_result"
    }
   ],
   "source": [
    "train_generator = DataGenerator(train_imgs,train_img_dir,train_masks,train_mask_dir,batch_size=36, dim=(224,224,3) ,shuffle=True)\n",
    "train_steps = train_generator.__len__()\n",
    "train_steps"
   ]
  },
  {
   "cell_type": "markdown",
   "id": "occupational-residence",
   "metadata": {
    "_uuid": "9fdd63fd5fa29124ba8c99371312ee1ff62198c9",
    "papermill": {
     "duration": 0.022964,
     "end_time": "2021-06-14T14:48:45.237252",
     "exception": false,
     "start_time": "2021-06-14T14:48:45.214288",
     "status": "completed"
    },
    "tags": []
   },
   "source": [
    "**After defining generator lets check the some of the dataset it generates for the training and visualize them**"
   ]
  },
  {
   "cell_type": "code",
   "execution_count": 6,
   "id": "considerable-documentation",
   "metadata": {
    "_uuid": "1c5f246ee62cd0451631ebf65a507673bebd782a",
    "execution": {
     "iopub.execute_input": "2021-06-14T14:48:45.286039Z",
     "iopub.status.busy": "2021-06-14T14:48:45.285360Z",
     "iopub.status.idle": "2021-06-14T14:48:45.288166Z",
     "shell.execute_reply": "2021-06-14T14:48:45.287671Z",
     "shell.execute_reply.started": "2021-06-14T14:46:11.828810Z"
    },
    "papermill": {
     "duration": 0.028226,
     "end_time": "2021-06-14T14:48:45.288269",
     "exception": false,
     "start_time": "2021-06-14T14:48:45.260043",
     "status": "completed"
    },
    "tags": []
   },
   "outputs": [],
   "source": [
    "# X,y = train_generator.__getitem__(150)\n",
    "# print(X.dtype,y.dtype)\n",
    "# t = 27\n",
    "# plt.figure(figsize=(8,8))\n",
    "# plt.subplot(121)\n",
    "# plt.imshow(X[t])\n",
    "# plt.subplot(122)\n",
    "# plt.imshow(np.reshape(y[t],(224,224)))\n",
    "#print(np.unique(y[t],return_counts=True))"
   ]
  },
  {
   "cell_type": "code",
   "execution_count": 7,
   "id": "minute-cameroon",
   "metadata": {
    "_uuid": "3417f30905b0ff185ddea15fde6ea33c1e327a5f",
    "execution": {
     "iopub.execute_input": "2021-06-14T14:48:45.338222Z",
     "iopub.status.busy": "2021-06-14T14:48:45.337492Z",
     "iopub.status.idle": "2021-06-14T14:48:45.341081Z",
     "shell.execute_reply": "2021-06-14T14:48:45.340644Z",
     "shell.execute_reply.started": "2021-06-14T14:46:13.919735Z"
    },
    "papermill": {
     "duration": 0.030209,
     "end_time": "2021-06-14T14:48:45.341185",
     "exception": false,
     "start_time": "2021-06-14T14:48:45.310976",
     "status": "completed"
    },
    "tags": []
   },
   "outputs": [
    {
     "data": {
      "text/plain": [
       "4"
      ]
     },
     "execution_count": 7,
     "metadata": {},
     "output_type": "execute_result"
    }
   ],
   "source": [
    "val_generator = DataGenerator(val_imgs,val_img_dir,val_masks,val_mask_dir,batch_size=36, dim=(224,224,3) ,shuffle=True)\n",
    "val_steps = val_generator.__len__()\n",
    "val_steps"
   ]
  },
  {
   "cell_type": "markdown",
   "id": "uniform-interface",
   "metadata": {
    "_uuid": "b5f3b24584baff455a9774964b365b228752e0e6",
    "papermill": {
     "duration": 0.022892,
     "end_time": "2021-06-14T14:48:45.387052",
     "exception": false,
     "start_time": "2021-06-14T14:48:45.364160",
     "status": "completed"
    },
    "tags": []
   },
   "source": [
    "# After preparing input pipeline we are going to define our U-net model\n",
    "\n",
    "here we first define down convolution (encoder ) and up convolution layer (decoder) and stack them up with a short circuting features from down sampling to corresponding up sampling\n",
    "\n",
    "full detail of the  architecture is present here - https://arxiv.org/abs/1505.04597"
   ]
  },
  {
   "cell_type": "code",
   "execution_count": 8,
   "id": "logical-greenhouse",
   "metadata": {
    "_uuid": "2512ae33c973cd7c8e701867ffef891741172233",
    "execution": {
     "iopub.execute_input": "2021-06-14T14:48:45.445617Z",
     "iopub.status.busy": "2021-06-14T14:48:45.440419Z",
     "iopub.status.idle": "2021-06-14T14:48:45.448078Z",
     "shell.execute_reply": "2021-06-14T14:48:45.447654Z",
     "shell.execute_reply.started": "2021-06-14T14:46:15.720103Z"
    },
    "papermill": {
     "duration": 0.037944,
     "end_time": "2021-06-14T14:48:45.448182",
     "exception": false,
     "start_time": "2021-06-14T14:48:45.410238",
     "status": "completed"
    },
    "tags": []
   },
   "outputs": [],
   "source": [
    "def conv_block(tensor, nfilters, size=3, padding='same', initializer=\"he_normal\"):\n",
    "    x = Conv2D(filters=nfilters, kernel_size=(size, size), padding=padding, kernel_initializer=initializer)(tensor)\n",
    "    x = BatchNormalization()(x)\n",
    "    x = Activation(\"relu\")(x)\n",
    "    x = Conv2D(filters=nfilters, kernel_size=(size, size), padding=padding, kernel_initializer=initializer)(x)\n",
    "    x = BatchNormalization()(x)\n",
    "    x = Activation(\"relu\")(x)\n",
    "    return x\n",
    "\n",
    "\n",
    "def deconv_block(tensor, residual, nfilters, size=3, padding='same', strides=(2, 2)):\n",
    "    y = Conv2DTranspose(nfilters, kernel_size=(size, size), strides=strides, padding=padding)(tensor)\n",
    "    y = concatenate([y, residual], axis=3)\n",
    "    y = conv_block(y, nfilters)\n",
    "    return y\n",
    "\n",
    "\n",
    "def Unet(h, w, filters):\n",
    "# down\n",
    "    input_layer = Input(shape=(h, w, 3), name='image_input')\n",
    "    conv1 = conv_block(input_layer, nfilters=filters)\n",
    "    conv1_out = MaxPooling2D(pool_size=(2, 2))(conv1)\n",
    "    conv2 = conv_block(conv1_out, nfilters=filters*2)\n",
    "    conv2_out = MaxPooling2D(pool_size=(2, 2))(conv2)\n",
    "    conv3 = conv_block(conv2_out, nfilters=filters*4)\n",
    "    conv3_out = MaxPooling2D(pool_size=(2, 2))(conv3)\n",
    "    conv4 = conv_block(conv3_out, nfilters=filters*8)\n",
    "    conv4_out = MaxPooling2D(pool_size=(2, 2))(conv4)\n",
    "    conv4_out = Dropout(0.5)(conv4_out)\n",
    "    conv5 = conv_block(conv4_out, nfilters=filters*16)\n",
    "    conv5 = Dropout(0.5)(conv5)\n",
    "# up\n",
    "    deconv6 = deconv_block(conv5, residual=conv4, nfilters=filters*8)\n",
    "    deconv6 = Dropout(0.5)(deconv6)\n",
    "    deconv7 = deconv_block(deconv6, residual=conv3, nfilters=filters*4)\n",
    "    deconv7 = Dropout(0.5)(deconv7) \n",
    "    deconv8 = deconv_block(deconv7, residual=conv2, nfilters=filters*2)\n",
    "    deconv9 = deconv_block(deconv8, residual=conv1, nfilters=filters)\n",
    "    output_layer = Conv2D(filters=1, kernel_size=(1, 1), activation='sigmoid')(deconv9)\n",
    "    # using sigmoid activation for binary classification\n",
    "    model = Model(inputs=input_layer, outputs=output_layer, name='Unet')\n",
    "    return model"
   ]
  },
  {
   "cell_type": "code",
   "execution_count": 9,
   "id": "intimate-wednesday",
   "metadata": {
    "_uuid": "de09610ae39d2abcede22b0daffddc30d29c2dd6",
    "execution": {
     "iopub.execute_input": "2021-06-14T14:48:45.497472Z",
     "iopub.status.busy": "2021-06-14T14:48:45.496978Z",
     "iopub.status.idle": "2021-06-14T14:48:48.258491Z",
     "shell.execute_reply": "2021-06-14T14:48:48.258035Z",
     "shell.execute_reply.started": "2021-06-14T14:46:16.255689Z"
    },
    "papermill": {
     "duration": 2.787554,
     "end_time": "2021-06-14T14:48:48.258615",
     "exception": false,
     "start_time": "2021-06-14T14:48:45.471061",
     "status": "completed"
    },
    "tags": []
   },
   "outputs": [],
   "source": [
    "model = Unet(224 , 224, 34)\n",
    "#model.summary()"
   ]
  },
  {
   "cell_type": "markdown",
   "id": "hollywood-margin",
   "metadata": {
    "_uuid": "9c4f3dd8099b29e8af444c86d93d03d28dae77c8",
    "papermill": {
     "duration": 0.022908,
     "end_time": "2021-06-14T14:48:48.304781",
     "exception": false,
     "start_time": "2021-06-14T14:48:48.281873",
     "status": "completed"
    },
    "tags": []
   },
   "source": [
    "# Here we define keras custom metric for the loss and accuracy computation\n",
    "\n",
    "Jaccard distance loss - this loss help to get rid of the side effects of unbalanced class label in a image (like - 80% background , 20 % human )  https://en.wikipedia.org/wiki/Jaccard_index\n",
    "\n",
    "dice_coef - To evaluate accuracy of the segmentation.   https://en.wikipedia.org/wiki/S%C3%B8rensen%E2%80%93Dice_coefficient"
   ]
  },
  {
   "cell_type": "code",
   "execution_count": 10,
   "id": "understood-brunswick",
   "metadata": {
    "_uuid": "55b012c74590e7294ac313645dc3b6f24121a8c9",
    "execution": {
     "iopub.execute_input": "2021-06-14T14:48:48.357203Z",
     "iopub.status.busy": "2021-06-14T14:48:48.356543Z",
     "iopub.status.idle": "2021-06-14T14:48:48.359674Z",
     "shell.execute_reply": "2021-06-14T14:48:48.360064Z",
     "shell.execute_reply.started": "2021-06-14T14:46:18.674242Z"
    },
    "papermill": {
     "duration": 0.032594,
     "end_time": "2021-06-14T14:48:48.360192",
     "exception": false,
     "start_time": "2021-06-14T14:48:48.327598",
     "status": "completed"
    },
    "tags": []
   },
   "outputs": [],
   "source": [
    "def jaccard_distance_loss(y_true, y_pred,smooth = 100):\n",
    "    intersection = K.sum(K.abs(y_true * y_pred), axis=-1)\n",
    "    sum_ = K.sum(K.abs(y_true) + K.abs(y_pred), axis=-1)\n",
    "    jac = (intersection + smooth) / (sum_ - intersection + smooth)\n",
    "    return (1 - jac) * smooth\n",
    "\n",
    "def dice_coef(y_true, y_pred):\n",
    "    y_true_f = K.flatten(y_true)\n",
    "    y_pred_f = K.flatten(y_pred)\n",
    "    intersection = K.sum(y_true_f * y_pred_f)\n",
    "    return (2. * intersection + K.epsilon()) / (K.sum(y_true_f) + K.sum(y_pred_f) + K.epsilon())"
   ]
  },
  {
   "cell_type": "markdown",
   "id": "absolute-patient",
   "metadata": {
    "_uuid": "772a38d1d54496ec554c602175cfdb55f2173be5",
    "papermill": {
     "duration": 0.023085,
     "end_time": "2021-06-14T14:48:48.405909",
     "exception": false,
     "start_time": "2021-06-14T14:48:48.382824",
     "status": "completed"
    },
    "tags": []
   },
   "source": [
    "# Defining callbacks and compile model with adam optimiser with default learning rate."
   ]
  },
  {
   "cell_type": "code",
   "execution_count": 11,
   "id": "metallic-substitute",
   "metadata": {
    "_uuid": "e238c0f4d3f0dc334f7719d1c6822154f260416e",
    "execution": {
     "iopub.execute_input": "2021-06-14T14:48:48.471738Z",
     "iopub.status.busy": "2021-06-14T14:48:48.471223Z",
     "iopub.status.idle": "2021-06-14T14:48:48.480832Z",
     "shell.execute_reply": "2021-06-14T14:48:48.480408Z",
     "shell.execute_reply.started": "2021-06-14T14:46:19.209813Z"
    },
    "papermill": {
     "duration": 0.048373,
     "end_time": "2021-06-14T14:48:48.480957",
     "exception": false,
     "start_time": "2021-06-14T14:48:48.432584",
     "status": "completed"
    },
    "tags": []
   },
   "outputs": [
    {
     "data": {
      "text/plain": [
       "[]"
      ]
     },
     "execution_count": 11,
     "metadata": {},
     "output_type": "execute_result"
    }
   ],
   "source": [
    "model.compile(optimizer='adam', loss=jaccard_distance_loss ,metrics = [dice_coef, 'accuracy'])\n",
    "mc = ModelCheckpoint(mode='max', filepath='top-weights.h5', monitor='val_dice_coef',save_best_only='True', save_weights_only='True', verbose=1)\n",
    "es = EarlyStopping(mode='max', monitor='val_dice_coef', patience=3, verbose=1)\n",
    "callbacks = [mc, es]\n",
    "model.metrics_names"
   ]
  },
  {
   "cell_type": "markdown",
   "id": "copyrighted-tampa",
   "metadata": {
    "_uuid": "74c35b0cadd8fde7dbdd5ee398880aaaf84a3bd0",
    "papermill": {
     "duration": 0.02484,
     "end_time": "2021-06-14T14:48:48.530423",
     "exception": false,
     "start_time": "2021-06-14T14:48:48.505583",
     "status": "completed"
    },
    "tags": []
   },
   "source": [
    "# Now finally train our model with above configuration and train data generator."
   ]
  },
  {
   "cell_type": "code",
   "execution_count": 12,
   "id": "miniature-field",
   "metadata": {
    "execution": {
     "iopub.execute_input": "2021-06-14T14:48:48.583701Z",
     "iopub.status.busy": "2021-06-14T14:48:48.583172Z",
     "iopub.status.idle": "2021-06-14T14:48:48.587117Z",
     "shell.execute_reply": "2021-06-14T14:48:48.586683Z",
     "shell.execute_reply.started": "2021-06-14T14:46:24.247808Z"
    },
    "papermill": {
     "duration": 0.03161,
     "end_time": "2021-06-14T14:48:48.587221",
     "exception": false,
     "start_time": "2021-06-14T14:48:48.555611",
     "status": "completed"
    },
    "tags": []
   },
   "outputs": [],
   "source": [
    "# model.load_weights('../input/background-removal/top-weights.h5')"
   ]
  },
  {
   "cell_type": "code",
   "execution_count": 13,
   "id": "italian-demand",
   "metadata": {
    "_uuid": "b1dd9aed28791724335cf6f8a92d95b3f5a5899d",
    "execution": {
     "iopub.execute_input": "2021-06-14T14:48:48.639099Z",
     "iopub.status.busy": "2021-06-14T14:48:48.638512Z",
     "iopub.status.idle": "2021-06-14T15:00:28.404842Z",
     "shell.execute_reply": "2021-06-14T15:00:28.404394Z"
    },
    "papermill": {
     "duration": 699.793856,
     "end_time": "2021-06-14T15:00:28.404995",
     "exception": false,
     "start_time": "2021-06-14T14:48:48.611139",
     "status": "completed"
    },
    "tags": []
   },
   "outputs": [
    {
     "name": "stderr",
     "output_type": "stream",
     "text": [
      "/opt/conda/lib/python3.7/site-packages/tensorflow/python/keras/engine/training.py:1844: UserWarning: `Model.fit_generator` is deprecated and will be removed in a future version. Please use `Model.fit`, which supports generators.\n",
      "  warnings.warn('`Model.fit_generator` is deprecated and '\n"
     ]
    },
    {
     "name": "stdout",
     "output_type": "stream",
     "text": [
      "Epoch 1/10\n",
      "37/37 [==============================] - 194s 5s/step - loss: 0.3758 - dice_coef: 0.0764 - accuracy: 0.7504 - val_loss: 0.9712 - val_dice_coef: 0.0373 - val_accuracy: 0.0191\n",
      "\n",
      "Epoch 00001: val_dice_coef improved from -inf to 0.03733, saving model to top-weights.h5\n",
      "Epoch 2/10\n",
      "37/37 [==============================] - 166s 4s/step - loss: 0.1786 - dice_coef: 0.1298 - accuracy: 0.9860 - val_loss: 0.8314 - val_dice_coef: 0.0356 - val_accuracy: 0.1313\n",
      "\n",
      "Epoch 00002: val_dice_coef did not improve from 0.03733\n",
      "Epoch 3/10\n",
      "37/37 [==============================] - 166s 4s/step - loss: 0.1282 - dice_coef: 0.1532 - accuracy: 0.9871 - val_loss: 0.1548 - val_dice_coef: 0.0300 - val_accuracy: 0.9808\n",
      "\n",
      "Epoch 00003: val_dice_coef did not improve from 0.03733\n",
      "Epoch 4/10\n",
      "37/37 [==============================] - 168s 5s/step - loss: 0.0902 - dice_coef: 0.2288 - accuracy: 0.9900 - val_loss: 0.1095 - val_dice_coef: 0.0289 - val_accuracy: 0.9826\n",
      "\n",
      "Epoch 00004: val_dice_coef did not improve from 0.03733\n",
      "Epoch 00004: early stopping\n"
     ]
    }
   ],
   "source": [
    "results = model.fit_generator(train_generator, steps_per_epoch=train_steps,epochs=10,callbacks=callbacks,validation_data=val_generator,validation_steps=val_steps)"
   ]
  },
  {
   "cell_type": "code",
   "execution_count": 14,
   "id": "imperial-clothing",
   "metadata": {
    "execution": {
     "iopub.execute_input": "2021-06-14T15:00:28.552341Z",
     "iopub.status.busy": "2021-06-14T15:00:28.551294Z",
     "iopub.status.idle": "2021-06-14T15:00:28.554862Z",
     "shell.execute_reply": "2021-06-14T15:00:28.555294Z"
    },
    "papermill": {
     "duration": 0.087474,
     "end_time": "2021-06-14T15:00:28.555429",
     "exception": false,
     "start_time": "2021-06-14T15:00:28.467955",
     "status": "completed"
    },
    "tags": []
   },
   "outputs": [
    {
     "ename": "KeyError",
     "evalue": "'acc'",
     "output_type": "error",
     "traceback": [
      "\u001b[0;31m---------------------------------------------------------------------------\u001b[0m",
      "\u001b[0;31mKeyError\u001b[0m                                  Traceback (most recent call last)",
      "\u001b[0;32m<ipython-input-14-d87a34381df9>\u001b[0m in \u001b[0;36m<module>\u001b[0;34m\u001b[0m\n\u001b[1;32m      5\u001b[0m \u001b[0mval_dice_coef\u001b[0m \u001b[0;34m=\u001b[0m \u001b[0mresults\u001b[0m\u001b[0;34m.\u001b[0m\u001b[0mhistory\u001b[0m\u001b[0;34m[\u001b[0m\u001b[0;34m\"val_dice_coef\"\u001b[0m\u001b[0;34m]\u001b[0m\u001b[0;34m\u001b[0m\u001b[0;34m\u001b[0m\u001b[0m\n\u001b[1;32m      6\u001b[0m \u001b[0;34m\u001b[0m\u001b[0m\n\u001b[0;32m----> 7\u001b[0;31m \u001b[0macc\u001b[0m \u001b[0;34m=\u001b[0m \u001b[0mresults\u001b[0m\u001b[0;34m.\u001b[0m\u001b[0mhistory\u001b[0m\u001b[0;34m[\u001b[0m\u001b[0;34m\"acc\"\u001b[0m\u001b[0;34m]\u001b[0m\u001b[0;34m\u001b[0m\u001b[0;34m\u001b[0m\u001b[0m\n\u001b[0m\u001b[1;32m      8\u001b[0m \u001b[0mval_acc\u001b[0m \u001b[0;34m=\u001b[0m \u001b[0mresults\u001b[0m\u001b[0;34m.\u001b[0m\u001b[0mhistory\u001b[0m\u001b[0;34m[\u001b[0m\u001b[0;34m\"val_acc\"\u001b[0m\u001b[0;34m]\u001b[0m\u001b[0;34m\u001b[0m\u001b[0;34m\u001b[0m\u001b[0m\n",
      "\u001b[0;31mKeyError\u001b[0m: 'acc'"
     ]
    }
   ],
   "source": [
    "loss = results.history[\"loss\"]\n",
    "val_loss = results.history[\"val_loss\"]\n",
    "\n",
    "dice_coef = results.history[\"dice_coef\"]\n",
    "val_dice_coef = results.history[\"val_dice_coef\"]\n",
    "\n",
    "acc = results.history[\"acc\"]\n",
    "val_acc = results.history[\"val_acc\"]"
   ]
  },
  {
   "cell_type": "code",
   "execution_count": 15,
   "id": "legendary-fighter",
   "metadata": {
    "execution": {
     "iopub.execute_input": "2021-06-14T15:00:28.689549Z",
     "iopub.status.busy": "2021-06-14T15:00:28.688719Z",
     "iopub.status.idle": "2021-06-14T15:00:28.859165Z",
     "shell.execute_reply": "2021-06-14T15:00:28.859565Z"
    },
    "papermill": {
     "duration": 0.240735,
     "end_time": "2021-06-14T15:00:28.859704",
     "exception": false,
     "start_time": "2021-06-14T15:00:28.618969",
     "status": "completed"
    },
    "tags": []
   },
   "outputs": [
    {
     "data": {
      "text/plain": [
       "<matplotlib.legend.Legend at 0x7f52ede6e850>"
      ]
     },
     "execution_count": 15,
     "metadata": {},
     "output_type": "execute_result"
    },
    {
     "data": {
      "image/png": "[encoded data removed]",
      "text/plain": [
       "<Figure size 432x288 with 1 Axes>"
      ]
     },
     "metadata": {
      "needs_background": "light"
     },
     "output_type": "display_data"
    }
   ],
   "source": [
    "plt.plot(dice_coef,label = \"dice_coef\")\n",
    "plt.plot(val_dice_coef,label  = \"val dice_coef\")\n",
    "plt.xlabel(\"iterations\")\n",
    "# plt.ylabel(\"X axis label\")\n",
    "plt.legend()"
   ]
  },
  {
   "cell_type": "code",
   "execution_count": 16,
   "id": "mineral-citation",
   "metadata": {
    "execution": {
     "iopub.execute_input": "2021-06-14T15:00:29.005054Z",
     "iopub.status.busy": "2021-06-14T15:00:29.004085Z",
     "iopub.status.idle": "2021-06-14T15:00:29.127039Z",
     "shell.execute_reply": "2021-06-14T15:00:29.127468Z"
    },
    "papermill": {
     "duration": 0.202713,
     "end_time": "2021-06-14T15:00:29.127608",
     "exception": false,
     "start_time": "2021-06-14T15:00:28.924895",
     "status": "completed"
    },
    "tags": []
   },
   "outputs": [
    {
     "data": {
      "text/plain": [
       "<matplotlib.legend.Legend at 0x7f5288209ed0>"
      ]
     },
     "execution_count": 16,
     "metadata": {},
     "output_type": "execute_result"
    },
    {
     "data": {
      "image/png": "[encoded data removed]",
      "text/plain": [
       "<Figure size 432x288 with 1 Axes>"
      ]
     },
     "metadata": {
      "needs_background": "light"
     },
     "output_type": "display_data"
    }
   ],
   "source": [
    "plt.plot(loss,label = \"loss\")\n",
    "plt.plot(val_loss,label  = \"val loss\")\n",
    "plt.xlabel(\"iterations\")\n",
    "# plt.ylabel(\"X axis label\")\n",
    "plt.legend()"
   ]
  },
  {
   "cell_type": "code",
   "execution_count": 17,
   "id": "renewable-business",
   "metadata": {
    "execution": {
     "iopub.execute_input": "2021-06-14T15:00:29.278961Z",
     "iopub.status.busy": "2021-06-14T15:00:29.278129Z",
     "iopub.status.idle": "2021-06-14T15:00:29.281767Z",
     "shell.execute_reply": "2021-06-14T15:00:29.282265Z"
    },
    "papermill": {
     "duration": 0.088886,
     "end_time": "2021-06-14T15:00:29.282424",
     "exception": false,
     "start_time": "2021-06-14T15:00:29.193538",
     "status": "completed"
    },
    "tags": []
   },
   "outputs": [
    {
     "ename": "NameError",
     "evalue": "name 'acc' is not defined",
     "output_type": "error",
     "traceback": [
      "\u001b[0;31m---------------------------------------------------------------------------\u001b[0m",
      "\u001b[0;31mNameError\u001b[0m                                 Traceback (most recent call last)",
      "\u001b[0;32m<ipython-input-17-5d7528b4ccfa>\u001b[0m in \u001b[0;36m<module>\u001b[0;34m\u001b[0m\n\u001b[0;32m----> 1\u001b[0;31m \u001b[0mplt\u001b[0m\u001b[0;34m.\u001b[0m\u001b[0mplot\u001b[0m\u001b[0;34m(\u001b[0m\u001b[0macc\u001b[0m\u001b[0;34m,\u001b[0m\u001b[0mlabel\u001b[0m \u001b[0;34m=\u001b[0m \u001b[0;34m\"acc\"\u001b[0m\u001b[0;34m)\u001b[0m\u001b[0;34m\u001b[0m\u001b[0;34m\u001b[0m\u001b[0m\n\u001b[0m\u001b[1;32m      2\u001b[0m \u001b[0mplt\u001b[0m\u001b[0;34m.\u001b[0m\u001b[0mplot\u001b[0m\u001b[0;34m(\u001b[0m\u001b[0mval_acc\u001b[0m\u001b[0;34m,\u001b[0m\u001b[0mlabel\u001b[0m  \u001b[0;34m=\u001b[0m \u001b[0;34m\"val acc\"\u001b[0m\u001b[0;34m)\u001b[0m\u001b[0;34m\u001b[0m\u001b[0;34m\u001b[0m\u001b[0m\n\u001b[1;32m      3\u001b[0m \u001b[0mplt\u001b[0m\u001b[0;34m.\u001b[0m\u001b[0mxlabel\u001b[0m\u001b[0;34m(\u001b[0m\u001b[0;34m\"iterations\"\u001b[0m\u001b[0;34m)\u001b[0m\u001b[0;34m\u001b[0m\u001b[0;34m\u001b[0m\u001b[0m\n\u001b[1;32m      4\u001b[0m \u001b[0;31m# plt.ylabel(\"X axis label\")\u001b[0m\u001b[0;34m\u001b[0m\u001b[0;34m\u001b[0m\u001b[0;34m\u001b[0m\u001b[0m\n\u001b[1;32m      5\u001b[0m \u001b[0mplt\u001b[0m\u001b[0;34m.\u001b[0m\u001b[0mlegend\u001b[0m\u001b[0;34m(\u001b[0m\u001b[0;34m)\u001b[0m\u001b[0;34m\u001b[0m\u001b[0;34m\u001b[0m\u001b[0m\n",
      "\u001b[0;31mNameError\u001b[0m: name 'acc' is not defined"
     ]
    }
   ],
   "source": [
    "plt.plot(acc,label = \"acc\")\n",
    "plt.plot(val_acc,label  = \"val acc\")\n",
    "plt.xlabel(\"iterations\")\n",
    "# plt.ylabel(\"X axis label\")\n",
    "plt.legend()"
   ]
  },
  {
   "cell_type": "code",
   "execution_count": 18,
   "id": "traditional-bahamas",
   "metadata": {
    "execution": {
     "iopub.execute_input": "2021-06-14T15:00:29.455399Z",
     "iopub.status.busy": "2021-06-14T15:00:29.453035Z",
     "iopub.status.idle": "2021-06-14T15:00:29.731108Z",
     "shell.execute_reply": "2021-06-14T15:00:29.730624Z"
    },
    "papermill": {
     "duration": 0.383112,
     "end_time": "2021-06-14T15:00:29.731240",
     "exception": false,
     "start_time": "2021-06-14T15:00:29.348128",
     "status": "completed"
    },
    "tags": []
   },
   "outputs": [],
   "source": [
    "model.save_weights(\"model.h3\")"
   ]
  },
  {
   "cell_type": "markdown",
   "id": "limiting-beijing",
   "metadata": {
    "_uuid": "537547ed7ccd5a312bd2ee615bbf916394865d53",
    "papermill": {
     "duration": 0.067508,
     "end_time": "2021-06-14T15:00:29.867810",
     "exception": false,
     "start_time": "2021-06-14T15:00:29.800302",
     "status": "completed"
    },
    "tags": []
   },
   "source": [
    "** Visualizing train and val loss w.r.t epoch**"
   ]
  },
  {
   "cell_type": "markdown",
   "id": "analyzed-racing",
   "metadata": {
    "_uuid": "5f75a87b3a7bc74f913017d082ea732a2b949f6a",
    "papermill": {
     "duration": 0.066318,
     "end_time": "2021-06-14T15:00:30.004340",
     "exception": false,
     "start_time": "2021-06-14T15:00:29.938022",
     "status": "completed"
    },
    "tags": []
   },
   "source": [
    "# Now its time to make some predictions"
   ]
  },
  {
   "cell_type": "markdown",
   "id": "isolated-throw",
   "metadata": {
    "_uuid": "a1fa61c5bfdb41cb61462514b80fe9e120ea37cd",
    "papermill": {
     "duration": 0.066631,
     "end_time": "2021-06-14T15:00:30.138727",
     "exception": false,
     "start_time": "2021-06-14T15:00:30.072096",
     "status": "completed"
    },
    "tags": []
   },
   "source": [
    "**Function to make prediction \n",
    "Note:-  Dont forget to Normalise image dataset (here i divided every pixel by 255. )**"
   ]
  },
  {
   "cell_type": "code",
   "execution_count": 19,
   "id": "imposed-submission",
   "metadata": {
    "_uuid": "44bc9cb617f25cbf713dd10ea083a174cc834e71",
    "execution": {
     "iopub.execute_input": "2021-06-14T15:00:30.278908Z",
     "iopub.status.busy": "2021-06-14T15:00:30.277627Z",
     "iopub.status.idle": "2021-06-14T15:00:30.279961Z",
     "shell.execute_reply": "2021-06-14T15:00:30.280357Z"
    },
    "papermill": {
     "duration": 0.074745,
     "end_time": "2021-06-14T15:00:30.280481",
     "exception": false,
     "start_time": "2021-06-14T15:00:30.205736",
     "status": "completed"
    },
    "tags": []
   },
   "outputs": [],
   "source": [
    "def make_prediction(model,image,shape):\n",
    "    img = img_to_array(load_img(image,target_size=shape))\n",
    "    img = np.expand_dims(img,axis=0)/255.\n",
    "    mask = model.predict(img)\n",
    "    \n",
    "    mask = mask[0] > 0.5\n",
    "    print(np.unique(mask,return_counts=True))\n",
    "    mask = np.reshape(mask,(224,224))\n",
    "    return mask                       "
   ]
  },
  {
   "cell_type": "code",
   "execution_count": 20,
   "id": "artificial-covering",
   "metadata": {
    "_uuid": "4f583854e1bef10653ff6fc6384a05d2b92c1ff5",
    "execution": {
     "iopub.execute_input": "2021-06-14T15:00:30.417434Z",
     "iopub.status.busy": "2021-06-14T15:00:30.416900Z",
     "iopub.status.idle": "2021-06-14T15:00:32.184596Z",
     "shell.execute_reply": "2021-06-14T15:00:32.184182Z"
    },
    "papermill": {
     "duration": 1.837792,
     "end_time": "2021-06-14T15:00:32.184713",
     "exception": false,
     "start_time": "2021-06-14T15:00:30.346921",
     "status": "completed"
    },
    "tags": []
   },
   "outputs": [
    {
     "data": {
      "text/plain": [
       "(2221, 1920, 3)"
      ]
     },
     "execution_count": 20,
     "metadata": {},
     "output_type": "execute_result"
    },
    {
     "data": {
      "image/png": "[encoded data removed]",
      "text/plain": [
       "<Figure size 432x288 with 1 Axes>"
      ]
     },
     "metadata": {
      "needs_background": "light"
     },
     "output_type": "display_data"
    }
   ],
   "source": [
    "image =\"../input/pp21fire/data/data/\"+ os.listdir(\"../input/pp21fire/data/data/\")[1001]\n",
    "img = img_to_array(load_img(image))\n",
    "# img = min(img,[0,0,0])\n",
    "plt.imshow(img/255.)\n",
    "\n",
    "img.shape"
   ]
  },
  {
   "cell_type": "code",
   "execution_count": 21,
   "id": "varying-australia",
   "metadata": {
    "_uuid": "20c88863cf50e6e3d8a3f70b91fb42d207b07aca",
    "execution": {
     "iopub.execute_input": "2021-06-14T15:00:32.329263Z",
     "iopub.status.busy": "2021-06-14T15:00:32.327962Z",
     "iopub.status.idle": "2021-06-14T15:00:33.124494Z",
     "shell.execute_reply": "2021-06-14T15:00:33.124927Z"
    },
    "papermill": {
     "duration": 0.869741,
     "end_time": "2021-06-14T15:00:33.125071",
     "exception": false,
     "start_time": "2021-06-14T15:00:32.255330",
     "status": "completed"
    },
    "tags": []
   },
   "outputs": [
    {
     "name": "stdout",
     "output_type": "stream",
     "text": [
      "(array([False]), array([50176]))\n"
     ]
    },
    {
     "data": {
      "text/plain": [
       "<matplotlib.image.AxesImage at 0x7f5288046750>"
      ]
     },
     "execution_count": 21,
     "metadata": {},
     "output_type": "execute_result"
    },
    {
     "data": {
      "image/png": "[encoded data removed]",
      "text/plain": [
       "<Figure size 432x288 with 1 Axes>"
      ]
     },
     "metadata": {
      "needs_background": "light"
     },
     "output_type": "display_data"
    }
   ],
   "source": [
    "mask = make_prediction(model,image,(224,224,3))\n",
    "plt.imshow(mask)"
   ]
  },
  {
   "cell_type": "code",
   "execution_count": 22,
   "id": "protecting-release",
   "metadata": {
    "execution": {
     "iopub.execute_input": "2021-06-14T15:00:33.270163Z",
     "iopub.status.busy": "2021-06-14T15:00:33.269495Z",
     "iopub.status.idle": "2021-06-14T15:00:34.517671Z",
     "shell.execute_reply": "2021-06-14T15:00:34.518107Z"
    },
    "papermill": {
     "duration": 1.322822,
     "end_time": "2021-06-14T15:00:34.518253",
     "exception": false,
     "start_time": "2021-06-14T15:00:33.195431",
     "status": "completed"
    },
    "tags": []
   },
   "outputs": [
    {
     "data": {
      "text/plain": [
       "<matplotlib.image.AxesImage at 0x7f4e84650ad0>"
      ]
     },
     "execution_count": 22,
     "metadata": {},
     "output_type": "execute_result"
    },
    {
     "data": {
      "image/png": "[encoded data removed]",
      "text/plain": [
       "<Figure size 432x288 with 1 Axes>"
      ]
     },
     "metadata": {
      "needs_background": "light"
     },
     "output_type": "display_data"
    }
   ],
   "source": [
    "o = \"../input/proposalspp21/masked/\"+image.split(\"/\")[-1]\n",
    "o = img_to_array(load_img(o))\n",
    "plt.imshow(o/255.)\n"
   ]
  },
  {
   "cell_type": "markdown",
   "id": "banned-interaction",
   "metadata": {
    "_uuid": "e037049fb4b63d080d1727a95750c8ac62bbf160",
    "papermill": {
     "duration": 0.070455,
     "end_time": "2021-06-14T15:00:34.659298",
     "exception": false,
     "start_time": "2021-06-14T15:00:34.588843",
     "status": "completed"
    },
    "tags": []
   },
   "source": [
    "**Now use the mask to get the segmented image**"
   ]
  },
  {
   "cell_type": "code",
   "execution_count": 23,
   "id": "amber-retirement",
   "metadata": {
    "_uuid": "fe6f6172c278a972771a72167a38b68ecbef38f5",
    "execution": {
     "iopub.execute_input": "2021-06-14T15:00:34.812051Z",
     "iopub.status.busy": "2021-06-14T15:00:34.807950Z",
     "iopub.status.idle": "2021-06-14T15:00:35.142949Z",
     "shell.execute_reply": "2021-06-14T15:00:35.142418Z"
    },
    "papermill": {
     "duration": 0.41192,
     "end_time": "2021-06-14T15:00:35.143081",
     "exception": false,
     "start_time": "2021-06-14T15:00:34.731161",
     "status": "completed"
    },
    "tags": []
   },
   "outputs": [],
   "source": [
    "h,w = img.shape[:2]\n",
    "mask_resized = cv2.resize(np.uint8(mask*1),(w,h))\n",
    "mask_resized = mask_resized != 0\n",
    "#print(np.unique(mask_resized,return_counts=True))\n",
    "segment = np.zeros((h,w,3))\n",
    "segment[:,:,0] = img[:,:,0]*mask_resized\n",
    "segment[:,:,1] = img[:,:,1]*mask_resized\n",
    "segment[:,:,2] = img[:,:,2]*mask_resized\n",
    "segment[np.where((segment == [0,0,0]).all(axis=2))] = [0,0,0]\n",
    "#img[np.where((img==[255,255,255]).all(axis=2))] = [0,0,0];"
   ]
  },
  {
   "cell_type": "code",
   "execution_count": 24,
   "id": "joined-senior",
   "metadata": {
    "_uuid": "c54c84edcb2a39572c9b94e60657784ba8288e0c",
    "execution": {
     "iopub.execute_input": "2021-06-14T15:00:35.365786Z",
     "iopub.status.busy": "2021-06-14T15:00:35.364724Z",
     "iopub.status.idle": "2021-06-14T15:00:36.407536Z",
     "shell.execute_reply": "2021-06-14T15:00:36.407989Z"
    },
    "papermill": {
     "duration": 1.163983,
     "end_time": "2021-06-14T15:00:36.408152",
     "exception": false,
     "start_time": "2021-06-14T15:00:35.244169",
     "status": "completed"
    },
    "tags": []
   },
   "outputs": [
    {
     "data": {
      "text/plain": [
       "<matplotlib.image.AxesImage at 0x7f4e845d2a90>"
      ]
     },
     "execution_count": 24,
     "metadata": {},
     "output_type": "execute_result"
    },
    {
     "data": {
      "image/png": "[encoded data removed]",
      "text/plain": [
       "<Figure size 576x576 with 1 Axes>"
      ]
     },
     "metadata": {
      "needs_background": "light"
     },
     "output_type": "display_data"
    }
   ],
   "source": [
    "plt.figure(figsize=(8,8))\n",
    "plt.imshow(segment/255.)"
   ]
  },
  {
   "cell_type": "code",
   "execution_count": null,
   "id": "preceding-validation",
   "metadata": {
    "_uuid": "85c60dc95737d082468cbb1dbd675642bf6ea8a3",
    "papermill": {
     "duration": 0.07239,
     "end_time": "2021-06-14T15:00:36.552422",
     "exception": false,
     "start_time": "2021-06-14T15:00:36.480032",
     "status": "completed"
    },
    "tags": []
   },
   "outputs": [],
   "source": []
  },
  {
   "cell_type": "code",
   "execution_count": null,
   "id": "under-dodge",
   "metadata": {
    "_uuid": "bf34a547e207680e1b21bdea3284524c988a6785",
    "papermill": {
     "duration": 0.071608,
     "end_time": "2021-06-14T15:00:36.696511",
     "exception": false,
     "start_time": "2021-06-14T15:00:36.624903",
     "status": "completed"
    },
    "tags": []
   },
   "outputs": [],
   "source": []
  }
 ],
 "metadata": {
  "kernelspec": {
   "display_name": "Python 3",
   "language": "python",
   "name": "python3"
  },
  "language_info": {
   "codemirror_mode": {
    "name": "ipython",
    "version": 3
   },
   "file_extension": ".py",
   "mimetype": "text/x-python",
   "name": "python",
   "nbconvert_exporter": "python",
   "pygments_lexer": "ipython3",
   "version": "3.7.10"
  },
  "papermill": {
   "default_parameters": {},
   "duration": 727.965909,
   "end_time": "2021-06-14T15:00:39.721482",
   "environment_variables": {},
   "exception": null,
   "input_path": "__notebook__.ipynb",
   "output_path": "__notebook__.ipynb",
   "parameters": {},
   "start_time": "2021-06-14T14:48:31.755573",
   "version": "2.3.3"
  }
 },
 "nbformat": 4,
 "nbformat_minor": 5
}
